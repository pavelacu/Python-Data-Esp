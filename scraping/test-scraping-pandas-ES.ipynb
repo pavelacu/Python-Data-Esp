{
 "cells": [
  {
   "cell_type": "markdown",
   "metadata": {
    "collapsed": true
   },
   "source": [
    "# Ejemplo Scrapping con python"
   ]
  },
  {
   "cell_type": "markdown",
   "metadata": {},
   "source": [
    "¿ Que es Scrapping?\n",
    "Si lo traducimos literalmente del ingles, significa destazar. Pero en el area de informatica se define como la tecnica para obtener informacion de un sitio web.\n",
    "\n",
    "A continuacion se explica con un breve ejemplo su aplicacion.\n",
    "\n",
    "Tomaremos el sitio http://www.movistar.com.gt/descubre/movil/multiplicadores-prepago/paquetes-prepago como ejemplo.\n",
    "\n",
    "Las librerias a utilizar son:\n",
    "- lxml: un parser de HTML.\n",
    "- requests: una libreria de manejo de peticiones.\n",
    "- Xpath: extracion de informacion de estructuras de etiquetas (XML, HTML, XSL, etc)\n",
    "\n",
    "opcional:\n",
    "- pandas: libreria para analisis de informacion.\n"
   ]
  },
  {
   "cell_type": "code",
   "execution_count": 14,
   "metadata": {},
   "outputs": [],
   "source": [
    "\n",
    "# importar librerias\n",
    "from lxml import html\n",
    "import requests\n",
    "\n",
    "#Obtener informacion\n",
    "page = requests.get('http://www.movistar.com.gt/descubre/movil/multiplicadores-prepago/paquetes-prepago')\n",
    "#almacenar codigo HTML\n",
    "tree = html.fromstring(page.content)"
   ]
  },
  {
   "cell_type": "markdown",
   "metadata": {},
   "source": [
    "Exploramos el esquema del codigo HTML del sitio, se necesita identificar el patron en el que estan ordenados los datos que necesitamos.\n",
    "Desde tu explorar la forma mas sencilla es con el click derecho sobre la paigna y elegir la opcion \"ver codigo\" o \"View source Code\"\n",
    "\n",
    "Por ejemplo para nuestro caso el esquema de la informacion se ve asi:"
   ]
  },
  {
   "cell_type": "code",
   "execution_count": null,
   "metadata": {},
   "outputs": [],
   "source": [
    "#<span class=\"capacidad\">1GB</span>\n",
    "#<span class=\"vigencia\">7 días</span>\n",
    "#<span class=\"precio\">Q100</span>\n",
    "#<span class=\"comoactvidesk hidden-phone\">Envia INTERNET30 al 700 para activar</span>"
   ]
  },
  {
   "cell_type": "markdown",
   "metadata": {},
   "source": [
    "Se puede identifica que las etiquetas span class = Caracteristica es el patron del orden de la informacion, se utiliza la libreria Xpath para poder estar esta informacion, de la siguiente manera"
   ]
  },
  {
   "cell_type": "code",
   "execution_count": 15,
   "metadata": {},
   "outputs": [],
   "source": [
    "#Creamos una lista de la propiedad capacidad:\n",
    "capacities = tree.xpath('//span[@class=\"capacidad\"]/text()')\n",
    "#Creamos una lista de la propiedad vigencia:\n",
    "durations = tree.xpath('//span[@class=\"vigencia\"]/text()')\n",
    "#Creamos una lista de la propiedad precio:\n",
    "prices = tree.xpath('//span[@class=\"precio\"]/text()')\n",
    "#Creamos una lista de la propiedad modo de activacion:\n",
    "activations = tree.xpath('//span[@class=\"comoactvidesk hidden-phone\"]/text()')"
   ]
  },
  {
   "cell_type": "markdown",
   "metadata": {},
   "source": [
    "Ahora, se imprime la informacion y podemos ver el resultado de la extraccion."
   ]
  },
  {
   "cell_type": "code",
   "execution_count": 17,
   "metadata": {},
   "outputs": [
    {
     "name": "stdout",
     "output_type": "stream",
     "text": [
      "Buyers:  ['3GB', '1GB', '600 ', '500 ', '300 ', '150 ', '500', '35', '100', '100', '40', '15']\n",
      "duration:  ['30 días', '7 días', '5 días', '3 días', '2 días', '1 día', '5 días', '2 días', '2 días', '2 días', '1 día', '1 día']\n",
      "Prices:  ['Q100', 'Q30', 'Q20', 'Q15', 'Q10', 'Q5', 'Q10', 'Q10', 'Q10', 'Q5', 'Q5', 'Q5']\n",
      "Mode Activation:  ['Enviá INTERNET100 al 700 para activar', 'Enviá INTERNET30 al 700 para activar', 'Enviá INTERNET20 al 700 para activar', 'Enviá INTERNET15 al 700 para activar', 'Enviá Internet10 al 700 para activar', 'Enviá INTERNET5 al 700 para activar', 'Enviá LLAM10 al 700 para activar', 'Enviá VOZ10 al 700 para activar', 'Enviá USA10 al 700 para activar', 'Enviá LLAMA5 al 700 para activar', 'Enviá USA5 al 700 para activar', 'Enviá VOZ5 al 700 para activar']\n"
     ]
    }
   ],
   "source": [
    "print ('Capacities: ', capacities)\n",
    "print ('Duration: ', durations)\n",
    "print ('Prices: ', prices)\n",
    "print ('Mode Activation: ', activations)"
   ]
  },
  {
   "cell_type": "markdown",
   "metadata": {},
   "source": [
    "* Opcional,\n",
    "Si es necesario armar una tabla de la informacion extraida. Es importante validar la cantidad de registros sea igual en todas las columnas. Despues de esto se puede armar un data frame, por medio de la libreria de \"pandas\", esto se realiza de la siguiente forma:"
   ]
  },
  {
   "cell_type": "code",
   "execution_count": null,
   "metadata": {},
   "outputs": [],
   "source": [
    "#inicializar un data Frame\n",
    "df = pd.DataFrame()\n",
    "#se arma el dataFrame columna por columna\n",
    "df['capacities'] = capacities\n",
    "df['duration'] = durations\n",
    "df['prices'] = prices\n",
    "df['activations'] = activations\n",
    "#imprimimos la informacion, la cual ya posee una esquema de tabla\n",
    "print (df)"
   ]
  },
  {
   "cell_type": "markdown",
   "metadata": {},
   "source": [
    "Esto es todo. "
   ]
  }
 ],
 "metadata": {
  "kernelspec": {
   "display_name": "Python 3.6",
   "language": "python",
   "name": "python36"
  },
  "language_info": {
   "codemirror_mode": {
    "name": "ipython",
    "version": 3
   },
   "file_extension": ".py",
   "mimetype": "text/x-python",
   "name": "python",
   "nbconvert_exporter": "python",
   "pygments_lexer": "ipython3",
   "version": "3.6.3"
  }
 },
 "nbformat": 4,
 "nbformat_minor": 2
}
