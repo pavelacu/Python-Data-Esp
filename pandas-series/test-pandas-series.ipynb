{
 "cells": [
  {
   "cell_type": "markdown",
   "metadata": {},
   "source": [
    "# Pandas : Series"
   ]
  },
  {
   "cell_type": "markdown",
   "metadata": {},
   "source": [
    "Pandas es una libreria desarrollada en python que tiene como objetivo facilitar el analisis de datos.\n",
    "En panda contamos con dos tipos conjuntos de datos que se denominan Series y DataFrame.\n",
    "- Serie: es un conjunto de datos que tiene relacion en comun.\n",
    "    Por ejemplo: las notas del curso de matematicas.\n",
    "    matematicas: [80,60,52,87,92]\n",
    "    \n",
    "- DataFrames: Es un conjunto de datos que estan formado por varias series.\n",
    "    Por ejemplos: las notas de curso del 1er Grado.\n",
    "        matematicas: [80,60,52,87,92]\n",
    "        Idioma: [100,70,82,87,95]\n",
    "        Ciencias: [70,62,63,56,74]\n",
    "\n",
    "A continuacion trabajaremos con una serie.\n",
    "    "
   ]
  },
  {
   "cell_type": "code",
   "execution_count": 2,
   "metadata": {},
   "outputs": [
    {
     "name": "stdout",
     "output_type": "stream",
     "text": [
      "371\n",
      "74.2\n",
      "80.0\n",
      "17.383900597967074\n",
      "count     5.000000\n",
      "mean     74.200000\n",
      "std      17.383901\n",
      "min      52.000000\n",
      "25%      60.000000\n",
      "50%      80.000000\n",
      "75%      87.000000\n",
      "max      92.000000\n",
      "dtype: float64\n"
     ]
    }
   ],
   "source": [
    "#Importamos la libreria de Pandas\n",
    "import pandas as pd\n",
    "\n",
    "# Cargamos la informacion.\n",
    "\n",
    "notas_matematicas= [80,60,52,87,92]\n",
    "\n",
    "# generar valores de estadistica descriptiva de los datos\n",
    "\n",
    "my_series = pd.Series(notas_matematicas)\n",
    "\n",
    "# Datos estadisticos \n",
    "# suma\n",
    "print(str(my_series.sum()))\n",
    "# promedio\n",
    "print(str(my_series.mean()))\n",
    "# media\n",
    "print(str(my_series.median()))\n",
    "# desviacion estandar\n",
    "print(str(my_series.std()))\n",
    "# Estadisticas descriptivas\n",
    "print(str(my_series.describe()))\n",
    "\n"
   ]
  },
  {
   "cell_type": "code",
   "execution_count": null,
   "metadata": {},
   "outputs": [],
   "source": []
  }
 ],
 "metadata": {
  "kernelspec": {
   "display_name": "Python 3.6",
   "language": "python",
   "name": "python36"
  },
  "language_info": {
   "codemirror_mode": {
    "name": "ipython",
    "version": 3
   },
   "file_extension": ".py",
   "mimetype": "text/x-python",
   "name": "python",
   "nbconvert_exporter": "python",
   "pygments_lexer": "ipython3",
   "version": "3.6.3"
  }
 },
 "nbformat": 4,
 "nbformat_minor": 2
}
